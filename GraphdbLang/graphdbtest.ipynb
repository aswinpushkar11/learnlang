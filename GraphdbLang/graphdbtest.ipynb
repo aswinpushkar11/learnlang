{
 "cells": [
  {
   "cell_type": "code",
   "execution_count": 1,
   "id": "09895472",
   "metadata": {},
   "outputs": [],
   "source": [
    "NEO4J_URI='neo4j+s://5a0da3e4.databases.neo4j.io'\n",
    "NEO4J_USERNAME='neo4j'\n",
    "NEO4J_PASSWORD='rBvpGmYDntDlubTrUu3agbIFI0XzspG7_tzQjqC-6NU'"
   ]
  },
  {
   "cell_type": "code",
   "execution_count": null,
   "id": "de30f33a",
   "metadata": {},
   "outputs": [],
   "source": [
    "from langchain_community.graphs import Neo4jGraph\n"
   ]
  }
 ],
 "metadata": {
  "kernelspec": {
   "display_name": "Python 3",
   "language": "python",
   "name": "python3"
  },
  "language_info": {
   "codemirror_mode": {
    "name": "ipython",
    "version": 3
   },
   "file_extension": ".py",
   "mimetype": "text/x-python",
   "name": "python",
   "nbconvert_exporter": "python",
   "pygments_lexer": "ipython3",
   "version": "3.10.0"
  }
 },
 "nbformat": 4,
 "nbformat_minor": 5
}
