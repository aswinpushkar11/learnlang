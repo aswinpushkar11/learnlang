{
 "cells": [
  {
   "cell_type": "markdown",
   "metadata": {},
   "source": [
    "## _Data Ingestion_ ##"
   ]
  },
  {
   "cell_type": "markdown",
   "metadata": {},
   "source": [
    "#### _Text Loader_ ####"
   ]
  },
  {
   "cell_type": "code",
   "execution_count": 1,
   "metadata": {},
   "outputs": [],
   "source": [
    "from langchain_community.document_loaders import TextLoader"
   ]
  },
  {
   "cell_type": "code",
   "execution_count": 2,
   "metadata": {},
   "outputs": [
    {
     "data": {
      "text/plain": [
       "<langchain_community.document_loaders.text.TextLoader at 0x7f8b95c1b280>"
      ]
     },
     "execution_count": 2,
     "metadata": {},
     "output_type": "execute_result"
    }
   ],
   "source": [
    "loader = TextLoader('/mnt/c/Personal/learnlang/DataIngestion/chelsea.txt')\n",
    "loader"
   ]
  },
  {
   "cell_type": "code",
   "execution_count": 10,
   "metadata": {},
   "outputs": [
    {
     "name": "stdout",
     "output_type": "stream",
     "text": [
      "page_content='Chelsea Football Club is a professional football club based in Fulham, West London, England. Named after neighbouring area Chelsea, they compete in the Premier League, the top tier of English football. Founded in 1905, the team play their home games at Stamford Bridge.[4] The club won their first major honour, the League championship, in 1955. They won the FA Cup for the first time in 1970, won their first European honour, the Cup Winners' Cup, in 1971, and became the third English club to win the Club World Cup in 2022.\n",
      "\n",
      "Chelsea is one of five clubs and the first English club to have won all three pre-1999 main European club competitions, the \"European Treble\" of the European Cup/UEFA Champions League, European/UEFA Cup Winners' Cup, and UEFA Cup/UEFA Europa League.[5] They are the only club to have won all three major European competitions twice. They are the only London club to have won the Champions League and the Club World Cup.[6] Domestically, the club has won six league titles, eight FA Cups, five League Cups, and four FA Community Shields. Internationally, they have won the UEFA Champions League, the UEFA Europa League, the UEFA Cup Winners' Cup and the UEFA Super Cup twice each, and the FIFA Club World Cup once. In terms of overall trophies won, Chelsea is the fifth-most successful club in English football.\n",
      "\n",
      "The club has rivalries with fellow London teams Arsenal and Tottenham Hotspur, and a historic rivalry with Leeds United. In terms of club value, Chelsea is the ninth-most-valuable football club in the world (as of 2024), worth $3.13 billion, and is the ninth-highest-earning football club in the world.[7][8]\n",
      "\n",
      "History\n",
      "Founding and early years (1905–1952)\n",
      "Main article: History of Chelsea F.C. (1905–1952)\n",
      "\n",
      "The first Chelsea team, September 1905\n",
      "In 1904, Gus Mears acquired the Stamford Bridge athletics stadium in Fulham with the aim of turning it into a football ground. An offer to lease it to nearby Fulham F.C. was turned down, so Mears opted to found his own club to use the stadium. As there was already a team named Fulham in the borough, the name of the adjacent borough of Chelsea was chosen for the new club; names like Kensington FC, Stamford Bridge FC and London FC were considered.[9] Chelsea F.C. was founded on 10 March 1905 at The Rising Sun pub (now The Butcher's Hook),[1][10] opposite the present-day main entrance to the ground on Fulham Road, and were elected to the Football League shortly afterwards.\n",
      "\n",
      "Chelsea won promotion to the First Division in their second season, and yo-yoed between the First and Second Divisions in its early years. The team reached the 1915 FA Cup final, where they lost to Sheffield United at Old Trafford, and finished third in the First Division in 1920, the club's best league campaign to that point.[11] Chelsea had a reputation for signing star players[12] and attracted large crowds. The club had the highest average attendance in English football in ten separate seasons[13] including 1907–08,[14] 1909–10,[15] 1911–12,[16] 1912–13,[17] 1913–14[18] and 1919–20.[19][20] They were FA Cup semi-finalists in 1920 and 1932 and remained in the First Division throughout the 1930s, but success eluded the club in the inter-war years.\n",
      "\n",
      "Modernisation and the first league championship (1952–1983)\n",
      "Main article: History of Chelsea F.C. (1952–1983)\n",
      "\n",
      "Chart showing the progress of Chelsea's league finishes from 1906 to the present\n",
      "Former Arsenal and England centre-forward Ted Drake was appointed manager in 1952 and proceeded to modernise the club. He removed the club's Chelsea pensioner crest, improved the youth set-up and training regime, rebuilt the side with shrewd signings from the lower divisions and amateur leagues, and led Chelsea to their first major trophy success – the League championship – in 1954–55. The following season saw UEFA create the European Champions' Cup, but after objections from The Football League, Chelsea were persuaded to withdraw from the competition before it started.[21][22] Chelsea failed to build on this success, and spent the remainder of the 1950s in mid-table. Drake was dismissed in 1961 and replaced by player-coach Tommy Docherty.\n",
      "\n",
      "Docherty built a new team around the group of talented young players emerging from the club's youth set-up, and Chelsea challenged for honours throughout the 1960s, enduring several near-misses. They were on course for a treble of League, FA Cup and League Cup going into the final stages of the 1964–65 season, winning the League Cup but faltering late on in the other two.[23] In three seasons the side were beaten in three major semi-finals and were FA Cup runners-up. Under Docherty's successor, Dave Sexton, Chelsea won the FA Cup in 1970, beating Leeds United 2–1 in a final replay. The following year, Chelsea took their first European honour, a UEFA Cup Winners' Cup triumph, with another replayed win, this time over Real Madrid in Athens.' metadata={'source': '/mnt/c/Personal/learnlang/DataIngestion/chelsea.txt'}\n",
      "<class 'list'>\n",
      "<class 'langchain_core.documents.base.Document'>\n"
     ]
    }
   ],
   "source": [
    "text_doc=loader.load()\n",
    "print(text_doc[0])\n",
    "print(type(text_doc))\n",
    "print(type(text_doc[0]))"
   ]
  },
  {
   "cell_type": "code",
   "execution_count": null,
   "metadata": {},
   "outputs": [],
   "source": []
  }
 ],
 "metadata": {
  "kernelspec": {
   "display_name": "Python 3",
   "language": "python",
   "name": "python3"
  },
  "language_info": {
   "codemirror_mode": {
    "name": "ipython",
    "version": 3
   },
   "file_extension": ".py",
   "mimetype": "text/x-python",
   "name": "python",
   "nbconvert_exporter": "python",
   "pygments_lexer": "ipython3",
   "version": "3.10.0"
  }
 },
 "nbformat": 4,
 "nbformat_minor": 2
}
