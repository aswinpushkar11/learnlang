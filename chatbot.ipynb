{
 "cells": [
  {
   "cell_type": "markdown",
   "id": "02ed84ce",
   "metadata": {},
   "source": [
    "## _LLM Powered Chatbot_ ##"
   ]
  },
  {
   "cell_type": "code",
   "execution_count": 2,
   "id": "66f16436",
   "metadata": {},
   "outputs": [
    {
     "data": {
      "text/plain": [
       "True"
      ]
     },
     "execution_count": 2,
     "metadata": {},
     "output_type": "execute_result"
    }
   ],
   "source": [
    "#Load environment variables\n",
    "import os\n",
    "from dotenv import load_dotenv\n",
    "load_dotenv()"
   ]
  },
  {
   "cell_type": "code",
   "execution_count": 3,
   "id": "86bb93d9",
   "metadata": {},
   "outputs": [],
   "source": [
    "groq_api_key = os.getenv(\"GROQ_API_KEY\")"
   ]
  },
  {
   "cell_type": "code",
   "execution_count": 4,
   "id": "bd6dc75a",
   "metadata": {},
   "outputs": [
    {
     "data": {
      "text/plain": [
       "ChatGroq(client=<groq.resources.chat.completions.Completions object at 0x7f545eaad750>, async_client=<groq.resources.chat.completions.AsyncCompletions object at 0x7f545eaaebc0>, model_name='gemma2-9b-it', model_kwargs={}, groq_api_key=SecretStr('**********'))"
      ]
     },
     "execution_count": 4,
     "metadata": {},
     "output_type": "execute_result"
    }
   ],
   "source": [
    "#Import Chatmodel\n",
    "from langchain_groq import ChatGroq\n",
    "model = ChatGroq(model='gemma2-9b-it',\n",
    "                 groq_api_key=groq_api_key)\n",
    "model"
   ]
  },
  {
   "cell_type": "code",
   "execution_count": 5,
   "id": "0ae07a5c",
   "metadata": {},
   "outputs": [
    {
     "data": {
      "text/plain": [
       "\"Hi Aswin! \\n\\nIt's nice to meet you.  \\n\\nAs a data engineer at Infosys, what kind of projects are you working on?  Are you using any interesting technologies? I'm always interested in learning more about the work data engineers do.\\n\""
      ]
     },
     "execution_count": 5,
     "metadata": {},
     "output_type": "execute_result"
    }
   ],
   "source": [
    "from langchain_core.messages import AIMessage,HumanMessage\n",
    "response = model.invoke([\n",
    "    HumanMessage(content='Hi I am Aswin ,I am a data Engineer with Infosys')\n",
    "])\n",
    "response.content"
   ]
  },
  {
   "cell_type": "code",
   "execution_count": 6,
   "id": "a3d407e9",
   "metadata": {},
   "outputs": [
    {
     "data": {
      "text/plain": [
       "AIMessage(content=\"You told me your name is Aswin and that you are a Data Engineer at Infosys. 😊  \\n\\nIs there anything else you'd like to chat about?  Perhaps you'd like to discuss data engineering trends or challenges you're facing?\\n\", additional_kwargs={}, response_metadata={'token_usage': {'completion_tokens': 55, 'prompt_tokens': 113, 'total_tokens': 168, 'completion_time': 0.1, 'prompt_time': 0.005387591, 'queue_time': 0.24632072000000002, 'total_time': 0.105387591}, 'model_name': 'gemma2-9b-it', 'system_fingerprint': 'fp_10c08bf97d', 'finish_reason': 'stop', 'logprobs': None}, id='run-47263265-fc39-441c-9dad-00c574218b1a-0', usage_metadata={'input_tokens': 113, 'output_tokens': 55, 'total_tokens': 168})"
      ]
     },
     "execution_count": 6,
     "metadata": {},
     "output_type": "execute_result"
    }
   ],
   "source": [
    "from langchain_core.messages import AIMessage,HumanMessage\n",
    "model.invoke([\n",
    "    HumanMessage(content='Hi I am Aswin ,I am a data Engineer with Infosys'),\n",
    "    AIMessage(content =\"Hi Aswin,\\n\\nIt's nice to meet you! It's great to hear you're a Data Engineer at Infosys. That's a fascinating field. \\n\\nWhat kind of data engineering projects are you currently working on?  \\n\\nI'm always eager to learn more about how data is being used to solve real-world problems.\\n\"),\n",
    "    HumanMessage(content=\"Whats my name and occupation?\")\n",
    "])\n"
   ]
  },
  {
   "cell_type": "markdown",
   "id": "6444946a",
   "metadata": {},
   "source": [
    "#### _Message History using Langchain_ ####"
   ]
  },
  {
   "cell_type": "code",
   "execution_count": 7,
   "id": "987a5308",
   "metadata": {},
   "outputs": [],
   "source": [
    "#Import libraries\n",
    "#Create the history Store\n",
    "from langchain_community.chat_message_histories import ChatMessageHistory\n",
    "from langchain_core.chat_history import BaseChatMessageHistory\n",
    "#Wrapper that appends to and replays from `history`\n",
    "from langchain_core.runnables.history import RunnableWithMessageHistory"
   ]
  },
  {
   "cell_type": "code",
   "execution_count": 8,
   "id": "d073bd45",
   "metadata": {},
   "outputs": [],
   "source": [
    "store ={}\n",
    "def get_session_history(session_id:str)->BaseChatMessageHistory:\n",
    "\n",
    "    if session_id not in store:\n",
    "        store[session_id] = ChatMessageHistory()\n",
    "    return store[session_id]"
   ]
  },
  {
   "cell_type": "code",
   "execution_count": 9,
   "id": "f8331938",
   "metadata": {},
   "outputs": [],
   "source": [
    "with_message_history = RunnableWithMessageHistory(model,get_session_history)\n",
    "config = {'configurable' :{'session_id':'chat1'}}"
   ]
  },
  {
   "cell_type": "code",
   "execution_count": 10,
   "id": "2705325a",
   "metadata": {},
   "outputs": [
    {
     "data": {
      "text/plain": [
       "\"It's nice to meet you, Aswin! 👋  \\n\\nIt's great to know you're a Data Engineer at Infosys. That's a really exciting field! \\n\\nWhat kind of projects are you working on these days?  Are there any particular technologies or challenges you're particularly interested in?  \\n\\nI'm always eager to learn more about what people are doing in the world of data engineering. 😄\\n\""
      ]
     },
     "execution_count": 10,
     "metadata": {},
     "output_type": "execute_result"
    }
   ],
   "source": [
    "response = with_message_history.invoke(\n",
    "    [HumanMessage(content='Hi I am Aswin ,I am a data Engineer with Infosys')],\n",
    "    config = config\n",
    ")\n",
    "response.content"
   ]
  },
  {
   "cell_type": "code",
   "execution_count": 11,
   "id": "abcceda1",
   "metadata": {},
   "outputs": [
    {
     "data": {
      "text/plain": [
       "'Your name is Aswin.  😊  I remember!  We just met.  \\n\\n\\n\\n\\n\\n\\n'"
      ]
     },
     "execution_count": 11,
     "metadata": {},
     "output_type": "execute_result"
    }
   ],
   "source": [
    "\n",
    "response = with_message_history.invoke(\n",
    "    [HumanMessage(content=\"What's my name?\")],\n",
    "    config=config\n",
    ")\n",
    "response.content\n"
   ]
  },
  {
   "cell_type": "code",
   "execution_count": 12,
   "id": "43d8d6dd",
   "metadata": {},
   "outputs": [
    {
     "data": {
      "text/plain": [
       "\"As an AI, I have no memory of past conversations and do not know your name.\\n\\nIf you'd like to tell me your name, I'd be happy to use it!\\n\""
      ]
     },
     "execution_count": 12,
     "metadata": {},
     "output_type": "execute_result"
    }
   ],
   "source": [
    "config2 = {'configurable' :{'session_id':'chat2'}}\n",
    "response = with_message_history.invoke(\n",
    "    [HumanMessage(content=\"What's my name?\")],\n",
    "    config=config2\n",
    ")\n",
    "response.content"
   ]
  },
  {
   "cell_type": "markdown",
   "id": "20f8080e",
   "metadata": {},
   "source": [
    "### _ChatPromptTemplate_ ###"
   ]
  },
  {
   "cell_type": "code",
   "execution_count": 16,
   "id": "a3b78eb8",
   "metadata": {},
   "outputs": [],
   "source": [
    "from langchain_core.prompts import ChatPromptTemplate,MessagesPlaceholder\n",
    "prompt = ChatPromptTemplate.from_messages(\n",
    "    [('system','You are a helpful assistant,Answer all the questions asked'),\n",
    "      MessagesPlaceholder(variable_name=\"messages\"),\n",
    "    ]\n",
    ")"
   ]
  },
  {
   "cell_type": "code",
   "execution_count": 17,
   "id": "fc079454",
   "metadata": {},
   "outputs": [],
   "source": [
    "chain = prompt|model"
   ]
  },
  {
   "cell_type": "code",
   "execution_count": 18,
   "id": "6a93bf06",
   "metadata": {},
   "outputs": [],
   "source": [
    "with_message_history= RunnableWithMessageHistory(chain,\n",
    "                                                 get_session_history)"
   ]
  },
  {
   "cell_type": "code",
   "execution_count": 21,
   "id": "dab16638",
   "metadata": {},
   "outputs": [],
   "source": [
    "config = {'configurable':{'session_id':'chat3'}}"
   ]
  },
  {
   "cell_type": "code",
   "execution_count": 22,
   "id": "47d907bc",
   "metadata": {},
   "outputs": [],
   "source": [
    "response = with_message_history.invoke(\n",
    "    [HumanMessage(content='My name is Aswin,I am a data engineer')],\n",
    "    config = config\n",
    ")"
   ]
  },
  {
   "cell_type": "code",
   "execution_count": 23,
   "id": "36a02a0c",
   "metadata": {},
   "outputs": [
    {
     "data": {
      "text/plain": [
       "\"Hi Aswin! It's nice to meet you.\\n\\nI'm ready to help with any questions you have. Since you're a data engineer, I imagine you have a lot of interesting things to ask about data, technology, or maybe even just need a break and want to chat.\\n\\nWhat can I do for you today?  \\n\\n\""
      ]
     },
     "execution_count": 23,
     "metadata": {},
     "output_type": "execute_result"
    }
   ],
   "source": [
    "response.content"
   ]
  },
  {
   "cell_type": "markdown",
   "id": "b8a08b5c",
   "metadata": {},
   "source": [
    "##### _Case2 - Parametersing the output prompt template_ #####"
   ]
  },
  {
   "cell_type": "code",
   "execution_count": 28,
   "id": "791fff21",
   "metadata": {},
   "outputs": [],
   "source": [
    "prompts = ChatPromptTemplate.from_messages(\n",
    "    [('system','You are a helpful assistant,answer in {language}'),\n",
    "    MessagesPlaceholder(variable_name='messages')  \n",
    "    ]\n",
    ")"
   ]
  },
  {
   "cell_type": "code",
   "execution_count": 29,
   "id": "11bdf88d",
   "metadata": {},
   "outputs": [],
   "source": [
    "chain = prompts|model"
   ]
  },
  {
   "cell_type": "code",
   "execution_count": 31,
   "id": "4132055a",
   "metadata": {},
   "outputs": [],
   "source": [
    "response= chain.invoke(\n",
    "    {\"messages\":[HumanMessage(content = 'I am Aswin Pushkar,I am a data engineer')],\n",
    "     \"language\":\"Hindi\"}\n",
    ")"
   ]
  },
  {
   "cell_type": "code",
   "execution_count": 32,
   "id": "3fa704b6",
   "metadata": {},
   "outputs": [
    {
     "data": {
      "text/plain": [
       "'नमस्ते Aswin Pushkar!\\n\\nमुझे जानकर अच्छा लगा कि आप एक डेटा इंजीनियर हैं। \\n\\nआप मुझे कैसे मदद कर सकता हूँ?  क्या आपके कोई विशिष्ट प्रश्न हैं या कोई कार्य जिसे मैं आपके लिए कर सकता हूँ? \\n\\n'"
      ]
     },
     "execution_count": 32,
     "metadata": {},
     "output_type": "execute_result"
    }
   ],
   "source": [
    "response.content"
   ]
  },
  {
   "cell_type": "code",
   "execution_count": 33,
   "id": "dd007ded",
   "metadata": {},
   "outputs": [],
   "source": [
    "with_message_history = RunnableWithMessageHistory(\n",
    "    chain,\n",
    "    get_session_history,\n",
    "    input_messages_key='messages'\n",
    ")"
   ]
  },
  {
   "cell_type": "code",
   "execution_count": 34,
   "id": "a6cfdde0",
   "metadata": {},
   "outputs": [],
   "source": [
    "config = {'configurable':{'session_id':'chat4'}}"
   ]
  },
  {
   "cell_type": "code",
   "execution_count": 35,
   "id": "2bd6029e",
   "metadata": {},
   "outputs": [],
   "source": [
    "response = with_message_history.invoke(\n",
    "    {'messages':[HumanMessage(content = 'I am Aswin Pushkar,I am a data engineer')],\n",
    "     'language':'Hindi'},\n",
    "     config = config\n",
    ")"
   ]
  },
  {
   "cell_type": "code",
   "execution_count": 36,
   "id": "1622d20d",
   "metadata": {},
   "outputs": [
    {
     "data": {
      "text/plain": [
       "'नमस्ते Aswin Pushkar! 😊  मुझे यह जानकर खुशी हो रही है कि आप एक डेटा इंजीनियर हैं।  \\n\\nआपके लिए मैं कैसे मदद कर सकता हूँ? क्या आप मुझे कुछ डेटा इंजीनियरिंग से जुड़े किसी प्रश्न के बारे में पूछना चाहते हैं, या फिर कुछ और? \\n\\n'"
      ]
     },
     "execution_count": 36,
     "metadata": {},
     "output_type": "execute_result"
    }
   ],
   "source": [
    "response.content\n"
   ]
  },
  {
   "cell_type": "code",
   "execution_count": 37,
   "id": "09e6e36c",
   "metadata": {},
   "outputs": [
    {
     "data": {
      "text/plain": [
       "'आपका नाम Aswin Pushkar है! 😊 \\n'"
      ]
     },
     "execution_count": 37,
     "metadata": {},
     "output_type": "execute_result"
    }
   ],
   "source": [
    "response = with_message_history.invoke(\n",
    "    {'messages':[HumanMessage(content = 'What is my name?')],\n",
    "     'language':'Hindi'},\n",
    "     config = config\n",
    ")\n",
    "response.content"
   ]
  },
  {
   "cell_type": "markdown",
   "id": "46390456",
   "metadata": {},
   "source": [
    "##### _Managing Conversation History_ #####"
   ]
  },
  {
   "cell_type": "code",
   "execution_count": 68,
   "id": "21b2ee67",
   "metadata": {},
   "outputs": [],
   "source": [
    "from langchain_core.messages import SystemMessage,trim_messages\n",
    "trimmer = trim_messages(\n",
    "    max_tokens = 45 ,\n",
    "    strategy = \"last\",\n",
    "    token_counter = model,\n",
    "    include_system = True,\n",
    "    allow_partial = False,\n",
    "    start_on = 'human' \n",
    ")\n",
    "\n",
    "messages = [\n",
    "    SystemMessage(content=\"you're a good assistant\"),\n",
    "    HumanMessage(content=\"hi! I'm bob\"),\n",
    "    AIMessage(content=\"hi!\"),\n",
    "    HumanMessage(content=\"I like vanilla ice cream\"),\n",
    "    AIMessage(content=\"nice\"),\n",
    "    HumanMessage(content=\"whats 2 + 2\"),\n",
    "    AIMessage(content=\"4\"),\n",
    "    HumanMessage(content=\"thanks\"),\n",
    "    AIMessage(content=\"no problem!\"),\n",
    "    HumanMessage(content=\"having fun?\"),\n",
    "    AIMessage(content=\"yes!\"),\n",
    "    HumanMessage(content=\"What is my 1+1?\"),\n",
    "    AIMessage(content='Your 1+1 is 2!')\n",
    "]"
   ]
  },
  {
   "cell_type": "code",
   "execution_count": 69,
   "id": "f3d160e3",
   "metadata": {},
   "outputs": [
    {
     "data": {
      "text/plain": [
       "[SystemMessage(content=\"you're a good assistant\", additional_kwargs={}, response_metadata={}),\n",
       " HumanMessage(content='thanks', additional_kwargs={}, response_metadata={}),\n",
       " AIMessage(content='no problem!', additional_kwargs={}, response_metadata={}),\n",
       " HumanMessage(content='having fun?', additional_kwargs={}, response_metadata={}),\n",
       " AIMessage(content='yes!', additional_kwargs={}, response_metadata={}),\n",
       " HumanMessage(content='What is my 1+1?', additional_kwargs={}, response_metadata={}),\n",
       " AIMessage(content='Your 1+1 is 2!', additional_kwargs={}, response_metadata={})]"
      ]
     },
     "execution_count": 69,
     "metadata": {},
     "output_type": "execute_result"
    }
   ],
   "source": [
    "trimmer.invoke(messages)"
   ]
  },
  {
   "cell_type": "code",
   "execution_count": 71,
   "id": "fe57d6c3",
   "metadata": {},
   "outputs": [],
   "source": [
    "from operator import itemgetter\n",
    "from langchain_core.runnables import RunnablePassthrough\n",
    "chain = (RunnablePassthrough.assign(messages=itemgetter(\"messages\")|trimmer)\n",
    "         |prompt\n",
    "         |model\n",
    ")"
   ]
  },
  {
   "cell_type": "code",
   "execution_count": 72,
   "id": "59ab097f",
   "metadata": {},
   "outputs": [],
   "source": [
    "response = chain.invoke(\n",
    "   { 'messages' : messages + [HumanMessage(content = \"What is my favourite icecream\")],\n",
    "    'language' : 'English'}\n",
    ")"
   ]
  },
  {
   "cell_type": "code",
   "execution_count": 73,
   "id": "5fee4d7a",
   "metadata": {},
   "outputs": [
    {
     "data": {
      "text/plain": [
       "\"As an AI, I don't have access to your personal information, including your favorite ice cream flavor.  What's your favorite ice cream?  🍦\\n\""
      ]
     },
     "execution_count": 73,
     "metadata": {},
     "output_type": "execute_result"
    }
   ],
   "source": [
    "response.content"
   ]
  },
  {
   "cell_type": "code",
   "execution_count": 76,
   "id": "7660ca41",
   "metadata": {},
   "outputs": [],
   "source": [
    "response = chain.invoke(\n",
    "   { 'messages' : messages + [HumanMessage(content = \"having fun?\")],\n",
    "    'language' : 'Hindi'}\n",
    ")"
   ]
  },
  {
   "cell_type": "code",
   "execution_count": 77,
   "id": "73828214",
   "metadata": {},
   "outputs": [
    {
     "data": {
      "text/plain": [
       "\"I am!  It's fun to help people and answer questions.  \\n\\nIs there anything else I can help you with? 😊\\n\""
      ]
     },
     "execution_count": 77,
     "metadata": {},
     "output_type": "execute_result"
    }
   ],
   "source": [
    "response.content"
   ]
  },
  {
   "cell_type": "code",
   "execution_count": 57,
   "id": "1c31e0f2",
   "metadata": {},
   "outputs": [],
   "source": [
    "#wrap in message history\n",
    "\n",
    "with_message_history = RunnableWithMessageHistory(\n",
    "    chain,\n",
    "    get_session_history,\n",
    "    input_messages_key=\"messages\",\n",
    ")"
   ]
  },
  {
   "cell_type": "code",
   "execution_count": 58,
   "id": "3c05bb3d",
   "metadata": {},
   "outputs": [],
   "source": [
    "config = {\"configurable\" :{\"session_id\":\"chat5\"}}"
   ]
  },
  {
   "cell_type": "code",
   "execution_count": 61,
   "id": "ffd2912b",
   "metadata": {},
   "outputs": [],
   "source": [
    "response = with_message_history.invoke(\n",
    "    {\"messages\": messages +[HumanMessage(content=\"Whats my favourite icecream?\")],\n",
    "     \"language\": \"English\"},\n",
    "     config = config,\n",
    ")"
   ]
  },
  {
   "cell_type": "code",
   "execution_count": 62,
   "id": "6ff695ca",
   "metadata": {},
   "outputs": [
    {
     "data": {
      "text/plain": [
       "\"As a large language model, I don't have access to any personal information about you, including your favorite ice cream flavor.\\n\\nWhat's your favorite ice cream? 😊🍦  \\n\\n\""
      ]
     },
     "execution_count": 62,
     "metadata": {},
     "output_type": "execute_result"
    }
   ],
   "source": [
    "response.content"
   ]
  },
  {
   "cell_type": "code",
   "execution_count": null,
   "id": "f4bff781",
   "metadata": {},
   "outputs": [],
   "source": []
  }
 ],
 "metadata": {
  "kernelspec": {
   "display_name": "Python 3",
   "language": "python",
   "name": "python3"
  },
  "language_info": {
   "codemirror_mode": {
    "name": "ipython",
    "version": 3
   },
   "file_extension": ".py",
   "mimetype": "text/x-python",
   "name": "python",
   "nbconvert_exporter": "python",
   "pygments_lexer": "ipython3",
   "version": "3.10.0"
  }
 },
 "nbformat": 4,
 "nbformat_minor": 5
}
