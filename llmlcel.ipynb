{
 "cells": [
  {
   "cell_type": "markdown",
   "id": "05dee5d8",
   "metadata": {},
   "source": [
    "### _LCEL - LANGCHAIN EXPRESSION LANGUAGE_ ###"
   ]
  },
  {
   "cell_type": "code",
   "execution_count": 2,
   "id": "8a0b77a9",
   "metadata": {},
   "outputs": [
    {
     "data": {
      "text/plain": [
       "True"
      ]
     },
     "execution_count": 2,
     "metadata": {},
     "output_type": "execute_result"
    }
   ],
   "source": [
    "#Import libraries\n",
    "import os\n",
    "from dotenv import load_dotenv\n",
    "load_dotenv()"
   ]
  },
  {
   "cell_type": "code",
   "execution_count": 3,
   "id": "51918852",
   "metadata": {},
   "outputs": [],
   "source": [
    "#Setting environmental variables\n",
    "import openai\n",
    "openai.api_key = os.getenv('OPENAI_API_KEY')\n",
    "groq_api_key = os.getenv('GROQ_API_KEY')\n"
   ]
  },
  {
   "cell_type": "code",
   "execution_count": 4,
   "id": "4c81c4ea",
   "metadata": {},
   "outputs": [
    {
     "data": {
      "text/plain": [
       "ChatGroq(client=<groq.resources.chat.completions.Completions object at 0x7f629a0071c0>, async_client=<groq.resources.chat.completions.AsyncCompletions object at 0x7f629a030670>, model_name='gemma2-9b-it', model_kwargs={}, groq_api_key=SecretStr('**********'))"
      ]
     },
     "execution_count": 4,
     "metadata": {},
     "output_type": "execute_result"
    }
   ],
   "source": [
    "#creating an Object of Chatgroq model\n",
    "from langchain_groq import ChatGroq\n",
    "model = ChatGroq(model ='gemma2-9b-it',groq_api_key=groq_api_key)\n",
    "model"
   ]
  },
  {
   "cell_type": "code",
   "execution_count": 13,
   "id": "d95fe093",
   "metadata": {},
   "outputs": [
    {
     "name": "stdout",
     "output_type": "stream",
     "text": [
      "नमस्ते, शुभप्रभात \n",
      "\n"
     ]
    }
   ],
   "source": [
    "messages1 = [\n",
    "    (\"system\", \"You are a helpful translator. Translate the user sentence to hindi.\"),\n",
    "    (\"human\", \"I love programming.\"),\n",
    "]\n",
    "response = model.invoke(messages)\n",
    "print(response.content)"
   ]
  },
  {
   "cell_type": "code",
   "execution_count": 14,
   "id": "a35a2760",
   "metadata": {},
   "outputs": [],
   "source": [
    "#A list of instructions as Human and System message\n",
    "from langchain_core.messages import HumanMessage,SystemMessage\n",
    "messages2 =[SystemMessage(content='Translate the given text from English to Hindi'),\n",
    "           HumanMessage(content='Hello,Good Morning')]"
   ]
  },
  {
   "cell_type": "code",
   "execution_count": 17,
   "id": "c0f9f485",
   "metadata": {},
   "outputs": [
    {
     "data": {
      "text/plain": [
       "AIMessage(content='नमस्ते, सुप्रभात \\n\\n\\nLet me know if you need any other words or phrases translated!\\n', additional_kwargs={}, response_metadata={'token_usage': {'completion_tokens': 27, 'prompt_tokens': 21, 'total_tokens': 48, 'completion_time': 0.049090909, 'prompt_time': 0.002117771, 'queue_time': 0.23440011200000002, 'total_time': 0.05120868}, 'model_name': 'gemma2-9b-it', 'system_fingerprint': 'fp_10c08bf97d', 'finish_reason': 'stop', 'logprobs': None}, id='run-f352df67-c9f1-4b0d-b735-33cb5e5a3321-0', usage_metadata={'input_tokens': 21, 'output_tokens': 27, 'total_tokens': 48})"
      ]
     },
     "execution_count": 17,
     "metadata": {},
     "output_type": "execute_result"
    }
   ],
   "source": [
    "result = model.invoke(messages2)\n",
    "result"
   ]
  },
  {
   "cell_type": "code",
   "execution_count": 12,
   "id": "d9035c5b",
   "metadata": {},
   "outputs": [
    {
     "data": {
      "text/plain": [
       "'नमस्ते, शुभ प्रभात \\n'"
      ]
     },
     "execution_count": 12,
     "metadata": {},
     "output_type": "execute_result"
    }
   ],
   "source": [
    "#Parsing the outputs  without metadata\n",
    "from langchain_core.output_parsers import StrOutputParser\n",
    "parser = StrOutputParser()\n",
    "parser.invoke(result)"
   ]
  },
  {
   "cell_type": "code",
   "execution_count": 23,
   "id": "3c4adf90",
   "metadata": {},
   "outputs": [
    {
     "name": "stdout",
     "output_type": "stream",
     "text": [
      "मुझे प्रोग्रामिंग बहुत पसंद है। \n",
      "\n"
     ]
    }
   ],
   "source": [
    "#Using LCEL to chain the components\n",
    "chain =model|parser\n",
    "print(chain.invoke(messages1))"
   ]
  },
  {
   "cell_type": "code",
   "execution_count": 21,
   "id": "1fcc0847",
   "metadata": {},
   "outputs": [
    {
     "name": "stdout",
     "output_type": "stream",
     "text": [
      "नमस्ते, सुप्रभात् \n",
      "\n"
     ]
    }
   ],
   "source": [
    "print(chain.invoke(messages2))"
   ]
  },
  {
   "cell_type": "markdown",
   "id": "02b53028",
   "metadata": {},
   "source": [
    "### _Method2 - Using ChatPromptTemplate and LCEL_ ###"
   ]
  },
  {
   "cell_type": "code",
   "execution_count": 27,
   "id": "c83e509f",
   "metadata": {},
   "outputs": [],
   "source": [
    "from langchain_core.prompts import ChatPromptTemplate\n",
    "generic_template = \"Translate the given text to {language}\"\n",
    "\n",
    "prompt = ChatPromptTemplate.from_messages(\n",
    "    [(\"system\",generic_template),\n",
    "     (\"user\",\"{text}\")]\n",
    ")"
   ]
  },
  {
   "cell_type": "code",
   "execution_count": 32,
   "id": "18a76abe",
   "metadata": {},
   "outputs": [
    {
     "data": {
      "text/plain": [
       "ChatPromptValue(messages=[SystemMessage(content='Translate the given text to French', additional_kwargs={}, response_metadata={}), HumanMessage(content='Hello', additional_kwargs={}, response_metadata={})])"
      ]
     },
     "execution_count": 32,
     "metadata": {},
     "output_type": "execute_result"
    }
   ],
   "source": [
    "result = prompt.invoke({'language':'French',\n",
    "                        'text':'Hello'})\n",
    "result"
   ]
  },
  {
   "cell_type": "code",
   "execution_count": 33,
   "id": "e62caacf",
   "metadata": {},
   "outputs": [
    {
     "data": {
      "text/plain": [
       "[SystemMessage(content='Translate the given text to French', additional_kwargs={}, response_metadata={}),\n",
       " HumanMessage(content='Hello', additional_kwargs={}, response_metadata={})]"
      ]
     },
     "execution_count": 33,
     "metadata": {},
     "output_type": "execute_result"
    }
   ],
   "source": [
    "result.to_messages()"
   ]
  },
  {
   "cell_type": "code",
   "execution_count": 34,
   "id": "578f355b",
   "metadata": {},
   "outputs": [
    {
     "data": {
      "text/plain": [
       "AIMessage(content='Bonjour  \\n', additional_kwargs={}, response_metadata={'token_usage': {'completion_tokens': 5, 'prompt_tokens': 16, 'total_tokens': 21, 'completion_time': 0.009090909, 'prompt_time': 0.001890656, 'queue_time': 0.231712308, 'total_time': 0.010981565}, 'model_name': 'gemma2-9b-it', 'system_fingerprint': 'fp_10c08bf97d', 'finish_reason': 'stop', 'logprobs': None}, id='run-5e435e75-ab5b-425e-8dc2-b11481770099-0', usage_metadata={'input_tokens': 16, 'output_tokens': 5, 'total_tokens': 21})"
      ]
     },
     "execution_count": 34,
     "metadata": {},
     "output_type": "execute_result"
    }
   ],
   "source": [
    "model.invoke(result)"
   ]
  },
  {
   "cell_type": "code",
   "execution_count": 36,
   "id": "bda7d6ee",
   "metadata": {},
   "outputs": [
    {
     "data": {
      "text/plain": [
       "'Bonjour \\n'"
      ]
     },
     "execution_count": 36,
     "metadata": {},
     "output_type": "execute_result"
    }
   ],
   "source": [
    "#Chaining diff components using LCEL\n",
    "chain = prompt|model|parser\n",
    "chain.invoke({'language':'French',\n",
    "              'text':'Hello'})"
   ]
  },
  {
   "cell_type": "code",
   "execution_count": null,
   "id": "0b039244",
   "metadata": {},
   "outputs": [],
   "source": []
  }
 ],
 "metadata": {
  "kernelspec": {
   "display_name": "Python 3",
   "language": "python",
   "name": "python3"
  },
  "language_info": {
   "codemirror_mode": {
    "name": "ipython",
    "version": 3
   },
   "file_extension": ".py",
   "mimetype": "text/x-python",
   "name": "python",
   "nbconvert_exporter": "python",
   "pygments_lexer": "ipython3",
   "version": "3.10.0"
  }
 },
 "nbformat": 4,
 "nbformat_minor": 5
}
